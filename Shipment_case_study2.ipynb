{
 "cells": [
  {
   "cell_type": "code",
   "execution_count": null,
   "metadata": {},
   "outputs": [],
   "source": [
    "import pandas as pd\n",
    "import numpy as np\n",
    "import datetime\n",
    "store = pd.read_csv(\"E:\\python1\\Store.csv\",encoding = 'latin')\n",
    "store"
   ]
  },
  {
   "cell_type": "code",
   "execution_count": null,
   "metadata": {},
   "outputs": [],
   "source": [
    "#1.How many unique cities are the orders being delivered to\n",
    "pd.unique(store['City']).tolist()"
   ]
  },
  {
   "cell_type": "code",
   "execution_count": null,
   "metadata": {},
   "outputs": [],
   "source": [
    "#2.What is the total quantity sold in the East Region\n",
    "store[store['Region']=='East']['Quantity'].sum()"
   ]
  },
  {
   "cell_type": "code",
   "execution_count": null,
   "metadata": {},
   "outputs": [],
   "source": [
    "#3.Find the sum of the quantity sold in the East Region\n",
    "store[store['Region']=='East']['Quantity'].sum()"
   ]
  },
  {
   "cell_type": "code",
   "execution_count": null,
   "metadata": {},
   "outputs": [],
   "source": [
    "#4.In the south region sort the sales in decreasing order\n",
    "store[store['Region'] == 'South'].sort_values(['Sales'],ascending=False)"
   ]
  },
  {
   "cell_type": "code",
   "execution_count": null,
   "metadata": {},
   "outputs": [],
   "source": [
    "#5.Find the mean of quantity for every region\n",
    "store.groupby('Region').agg({'Quantity':['mean']})"
   ]
  },
  {
   "cell_type": "code",
   "execution_count": null,
   "metadata": {},
   "outputs": [],
   "source": [
    "#6.Find the mean of sales for every category\n",
    "store.groupby('Category').agg({'Sales':['mean']})"
   ]
  },
  {
   "cell_type": "code",
   "execution_count": null,
   "metadata": {},
   "outputs": [],
   "source": [
    "#7.Find the max, min, sum of sales and profit for every category\n",
    "store.groupby('Category').agg({'Sales':['max','min','sum'],'Profit':['max','min','sum']})"
   ]
  },
  {
   "cell_type": "code",
   "execution_count": null,
   "metadata": {},
   "outputs": [],
   "source": [
    "#8.Find sum of sales and max profit for every segment\n",
    "store.groupby('Segment').agg({'Sales':['sum'],'Profit':['max']})"
   ]
  },
  {
   "cell_type": "code",
   "execution_count": null,
   "metadata": {},
   "outputs": [],
   "source": [
    "#9.For every segment find the mean of the discount\n",
    "store.groupby('Segment').agg({'Discount':['mean']})"
   ]
  },
  {
   "cell_type": "code",
   "execution_count": null,
   "metadata": {},
   "outputs": [],
   "source": [
    "#10.For every segment find the most profitable customers\n",
    "b = store.groupby(['Segment','Customer Name']).agg({'Profit':['sum']})\n",
    "b.columns.values"
   ]
  },
  {
   "cell_type": "code",
   "execution_count": null,
   "metadata": {},
   "outputs": [],
   "source": [
    "#11.What are the top 5 categories that give maximum profit?\n",
    "store.groupby('Category')['Profit'].max()"
   ]
  },
  {
   "cell_type": "code",
   "execution_count": null,
   "metadata": {},
   "outputs": [],
   "source": [
    "#12.What is the Total Sales, Quantity, Discount, Profit across Total US.\n",
    "store[['Sales','Quantity','Discount','Profit']].sum()"
   ]
  },
  {
   "cell_type": "code",
   "execution_count": null,
   "metadata": {},
   "outputs": [],
   "source": [
    "#13.How many times has it taken more than 5 days from placing an order to shipping\n",
    "store['Order Date'] = pd.to_datetime(store['Order Date'])\n",
    "store['Ship Date'] = pd.to_datetime(store['Ship Date'])\n",
    "\n",
    "store['date_delta'] = store['Ship Date'] - store['Order Date']\n",
    "store[store['date_delta']>'5 days']['date_delta'].count()"
   ]
  },
  {
   "cell_type": "code",
   "execution_count": null,
   "metadata": {},
   "outputs": [],
   "source": [
    "#14.Find the total number of orders in every category which has been shipped with a duration > 5 days\n",
    "store[store['date_delta']>'5 days'].groupby('Category').agg({'date_delta':['count']})"
   ]
  },
  {
   "cell_type": "code",
   "execution_count": null,
   "metadata": {},
   "outputs": [],
   "source": [
    "#15.What’s the percentage of items which has been shipped within 5 days\n",
    "store1 = store[store['date_delta']<='5 days']\n",
    "(len(store1['date_delta'])/len(store['date_delta'])) *100"
   ]
  },
  {
   "cell_type": "code",
   "execution_count": null,
   "metadata": {},
   "outputs": [],
   "source": [
    "#16.What’s the percentage of items which has been shipped after 5 days\n",
    "store2 = store[store['date_delta']>'5 days']\n",
    "(len(store2['date_delta'])/len(store['date_delta']))*100"
   ]
  }
 ],
 "metadata": {
  "kernelspec": {
   "display_name": "Python 3",
   "language": "python",
   "name": "python3"
  },
  "language_info": {
   "codemirror_mode": {
    "name": "ipython",
    "version": 3
   },
   "file_extension": ".py",
   "mimetype": "text/x-python",
   "name": "python",
   "nbconvert_exporter": "python",
   "pygments_lexer": "ipython3",
   "version": "3.6.4"
  }
 },
 "nbformat": 4,
 "nbformat_minor": 2
}
