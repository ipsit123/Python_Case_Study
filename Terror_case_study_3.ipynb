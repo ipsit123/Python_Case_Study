{
 "cells": [
  {
   "cell_type": "code",
   "execution_count": null,
   "metadata": {},
   "outputs": [],
   "source": [
    "import pandas as pd\n",
    "import numpy as np\n",
    "trr = pd.read_csv('E:\\\\python1\\\\terror.csv',sep = ',',header=0,encoding = 'latin')\n",
    "trr"
   ]
  },
  {
   "cell_type": "code",
   "execution_count": null,
   "metadata": {},
   "outputs": [],
   "source": [
    "#1.How many attacks happened in India?\n",
    "trr[trr['country_txt']=='India']['country_txt'].count()"
   ]
  },
  {
   "cell_type": "code",
   "execution_count": null,
   "metadata": {},
   "outputs": [],
   "source": [
    "#2.How many attacks happened in India and upto 3 people were killed?\n",
    "trr.query(\"(country_txt == 'India') & (nkill<=3)\")['country_txt'].count()"
   ]
  },
  {
   "cell_type": "code",
   "execution_count": null,
   "metadata": {},
   "outputs": [],
   "source": [
    "#3.Extract the city and summary for attacks above\n",
    "trr.query(\"(country_txt == 'India') & (nkill<=3)\")[['summary']]"
   ]
  },
  {
   "cell_type": "code",
   "execution_count": null,
   "metadata": {},
   "outputs": [],
   "source": [
    "#4.In a single terror incident in India, find out top 5 cities by number killed\n",
    "a = trr[trr['country_txt']=='India'].groupby('city')[['nkill']].max()\n",
    "a.sort_values(['nkill'],ascending= False).head()"
   ]
  },
  {
   "cell_type": "code",
   "execution_count": null,
   "metadata": {},
   "outputs": [],
   "source": [
    "#5.In a single terror incident in India, find out top 5 cities by number killed and wounded\n",
    "trr['killed+wounded'] = trr['nkill'] + trr['nwound']\n",
    "a = trr[trr['country_txt']=='India']\n",
    "a.sort_values(['killed+wounded'],ascending= False).head()['city'].values"
   ]
  },
  {
   "cell_type": "code",
   "execution_count": null,
   "metadata": {},
   "outputs": [],
   "source": [
    "#6.How many attacks were successful that were suicide attacks\n",
    "trr.query(\"(success == 1) & (suicide == 1)\")[['suicide']].count()"
   ]
  },
  {
   "cell_type": "code",
   "execution_count": null,
   "metadata": {},
   "outputs": [],
   "source": [
    "#7.label all the incidents where the number killed was more than 5 as severe\n",
    "trr['lable'] = ['severe' if i>5 else 'moderate' for i in trr['nkill']]\n"
   ]
  },
  {
   "cell_type": "code",
   "execution_count": null,
   "metadata": {},
   "outputs": [],
   "source": [
    "#9.Create a new category representing if the incident occured in Afghanistan, Pakistan or India as one level of the category and all the other countries as another level\n",
    "trr['asian/non asian'] = ['asian' if i in ['Afghanistan','Pakistan','India'] else 'non asian' for i in trr['country_txt']]\n",
    "trr"
   ]
  }
 ],
 "metadata": {
  "kernelspec": {
   "display_name": "Python 3",
   "language": "python",
   "name": "python3"
  },
  "language_info": {
   "codemirror_mode": {
    "name": "ipython",
    "version": 3
   },
   "file_extension": ".py",
   "mimetype": "text/x-python",
   "name": "python",
   "nbconvert_exporter": "python",
   "pygments_lexer": "ipython3",
   "version": "3.6.4"
  }
 },
 "nbformat": 4,
 "nbformat_minor": 2
}
