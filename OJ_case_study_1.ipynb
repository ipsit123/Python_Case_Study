{
 "cells": [
  {
   "cell_type": "code",
   "execution_count": null,
   "metadata": {},
   "outputs": [],
   "source": [
    "import pandas as pd\n",
    "import numpy as np\n",
    "oj = pd.read_csv(\"E:\\python1\\oj.csv\")\n",
    "print(oj)"
   ]
  },
  {
   "cell_type": "code",
   "execution_count": null,
   "metadata": {},
   "outputs": [],
   "source": [
    "#1.Find the dimensions of the oj data set\n",
    "oj.shape"
   ]
  },
  {
   "cell_type": "code",
   "execution_count": null,
   "metadata": {},
   "outputs": [],
   "source": [
    "#2.Find the structure of the data set\n",
    "oj.info()"
   ]
  },
  {
   "cell_type": "code",
   "execution_count": null,
   "metadata": {},
   "outputs": [],
   "source": [
    "#3.Find out the column names in the data set\n",
    "oj.columns.values.tolist()"
   ]
  },
  {
   "cell_type": "code",
   "execution_count": null,
   "metadata": {},
   "outputs": [],
   "source": [
    "#4.\tDescribe the data set\n",
    "oj.describe()"
   ]
  },
  {
   "cell_type": "code",
   "execution_count": null,
   "metadata": {},
   "outputs": [],
   "source": [
    "#5.Fetch the first row 3rd column from the data set\n",
    "oj.iloc[0,2]"
   ]
  },
  {
   "cell_type": "code",
   "execution_count": null,
   "metadata": {},
   "outputs": [],
   "source": [
    "#6.Fetch the first, second and Third columns of the oj data frame\n",
    "oj.iloc[:,1:4]"
   ]
  },
  {
   "cell_type": "code",
   "execution_count": null,
   "metadata": {},
   "outputs": [],
   "source": [
    "#7.Fetch the first, second, eighth and the 456th rows of the 1st, third and the sixth columns of the data frame\n",
    "oj.iloc[[0,1,7,456],[0,2,5]]"
   ]
  },
  {
   "cell_type": "code",
   "execution_count": null,
   "metadata": {},
   "outputs": [],
   "source": [
    "#8.Fetch the top 5 rows of the brand column\n",
    "oj['brand'].head()"
   ]
  },
  {
   "cell_type": "code",
   "execution_count": null,
   "metadata": {},
   "outputs": [],
   "source": [
    "#9.Fetch top 5 rows of the brand, week and feat details\n",
    "oj[['brand','week','feat']].head()"
   ]
  },
  {
   "cell_type": "code",
   "execution_count": null,
   "metadata": {},
   "outputs": [],
   "source": [
    "#10.Fetch the details of all distinct stores\n",
    "pd.unique(oj[\"store\"])"
   ]
  },
  {
   "cell_type": "code",
   "execution_count": null,
   "metadata": {},
   "outputs": [],
   "source": [
    "#11.Fetch all the observations for Tropicana brand\n",
    "oj[oj[\"brand\"] == 'tropicana']"
   ]
  },
  {
   "cell_type": "code",
   "execution_count": null,
   "metadata": {},
   "outputs": [],
   "source": [
    "#12.Fetch all the observations for Tropicana brand using query function\n",
    "oj.query(\"brand == 'tropicana'\")"
   ]
  },
  {
   "cell_type": "code",
   "execution_count": null,
   "metadata": {},
   "outputs": [],
   "source": [
    "#13.Fetch bottom 5 observations for those who have bought Tropicana or dominics\n",
    "oj.query(\"(brand == 'tropicana') | (brand == 'dominicks')\").tail()"
   ]
  },
  {
   "cell_type": "code",
   "execution_count": null,
   "metadata": {},
   "outputs": [],
   "source": [
    "#14.Fetch the income, brand, price observations with Tropicana brand without feature advertisement\n",
    "oj.query(\"(brand == 'tropicana') & (feat !=1)\")[['INCOME','brand','price']]"
   ]
  },
  {
   "cell_type": "code",
   "execution_count": null,
   "metadata": {},
   "outputs": [],
   "source": [
    "#15.Add a new column in the dataset: logInc which is the logarithm of the income\n",
    "oj['loginc'] = np.log(oj['INCOME'])\n",
    "oj"
   ]
  },
  {
   "cell_type": "code",
   "execution_count": null,
   "metadata": {},
   "outputs": [],
   "source": [
    "#16.Sort the Data in the increasing order of the week\n",
    "oj.sort_values('week')"
   ]
  },
  {
   "cell_type": "code",
   "execution_count": null,
   "metadata": {},
   "outputs": [],
   "source": [
    "#17.Sort the data in the decreasing order of Income\n",
    "oj.sort_values('INCOME',ascending = False)"
   ]
  },
  {
   "cell_type": "code",
   "execution_count": null,
   "metadata": {},
   "outputs": [],
   "source": [
    "#18.Find the mean of the juice price for each brand\n",
    "#oj.groupby('brand')['price'].mean()\n",
    "oj.groupby('brand').agg({'price':['mean']})"
   ]
  },
  {
   "cell_type": "code",
   "execution_count": null,
   "metadata": {},
   "outputs": [],
   "source": [
    "#19.Find the average income for each brand and at each store\n",
    "#oj.groupby(['brand','store'])['price'].mean()\n",
    "oj.groupby(['store','brand']).agg({'price':['mean']})"
   ]
  },
  {
   "cell_type": "code",
   "execution_count": null,
   "metadata": {},
   "outputs": [],
   "source": [
    "#20.Mean and std deviation of the income\n",
    "oj['INCOME'].mean()\n",
    "oj['INCOME'].std()"
   ]
  },
  {
   "cell_type": "code",
   "execution_count": null,
   "metadata": {},
   "outputs": [],
   "source": [
    "#21.For income greater than or equal to 10.5, find the mean income\n",
    "oj.query(\"INCOME >= 10.5\")['INCOME'].mean()"
   ]
  },
  {
   "cell_type": "code",
   "execution_count": null,
   "metadata": {},
   "outputs": [],
   "source": [
    "#22.For each brand having price >=2.5 find the mean, median, sd of the log of income\n",
    "oj.query(\"price>=2.5\").groupby('brand')['loginc'].agg({'loginc':['mean','median','std']})\n",
    "#oj.query(\"price>=2.5\").groupby('brand')[['loginc','INCOME']].agg({'loginc':['mean'],'INCOME':['median']})\n"
   ]
  },
  {
   "cell_type": "code",
   "execution_count": null,
   "metadata": {},
   "outputs": [],
   "source": [
    "#23.Find the Cross tabulation of brands and feature advertisement\n",
    "pd.crosstab(oj['brand'],oj['feat'])"
   ]
  }
 ],
 "metadata": {
  "kernelspec": {
   "display_name": "Python 3",
   "language": "python",
   "name": "python3"
  },
  "language_info": {
   "codemirror_mode": {
    "name": "ipython",
    "version": 3
   },
   "file_extension": ".py",
   "mimetype": "text/x-python",
   "name": "python",
   "nbconvert_exporter": "python",
   "pygments_lexer": "ipython3",
   "version": "3.6.4"
  }
 },
 "nbformat": 4,
 "nbformat_minor": 2
}
