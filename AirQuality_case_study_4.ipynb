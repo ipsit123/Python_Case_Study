{
 "cells": [
  {
   "cell_type": "code",
   "execution_count": null,
   "metadata": {},
   "outputs": [],
   "source": [
    "import pandas as pd\n",
    "import numpy as np\n",
    "air = pd.read_csv(\"E:\\python1\\Airqualtiy.csv\")\n",
    "air"
   ]
  },
  {
   "cell_type": "code",
   "execution_count": null,
   "metadata": {},
   "outputs": [],
   "source": [
    "#1.\tFetch the observations for 9 day of June\n",
    "air[air['Month'] == 6].head(9)"
   ]
  },
  {
   "cell_type": "code",
   "execution_count": null,
   "metadata": {},
   "outputs": [],
   "source": [
    "#2.\tFind Average temperature for the month of June\n",
    "air.query(\"Month == 6\")['Temp'].mean()"
   ]
  },
  {
   "cell_type": "code",
   "execution_count": null,
   "metadata": {},
   "outputs": [],
   "source": [
    "#3.\tTo which day of June has the least temperature\n",
    "a = air[air['Month']==6]\n",
    "b = int(a['Temp'].min())\n",
    "a[a['Temp'] == b][['Day']]"
   ]
  },
  {
   "cell_type": "code",
   "execution_count": null,
   "metadata": {},
   "outputs": [],
   "source": [
    "#4.\tFind Maximum Ozone value for the month of May\n",
    "air[air['Month']==5]['Ozone'].max()"
   ]
  },
  {
   "cell_type": "code",
   "execution_count": null,
   "metadata": {},
   "outputs": [],
   "source": [
    "#5.\tFind the count of the missing values in the ozone column of the data set\n",
    "sum(air['Ozone'].isnull())"
   ]
  },
  {
   "cell_type": "code",
   "execution_count": null,
   "metadata": {},
   "outputs": [],
   "source": [
    "#6.Find out What is the mean of the Ozone column in this dataset\n",
    "air['Ozone'].mean()"
   ]
  },
  {
   "cell_type": "code",
   "execution_count": null,
   "metadata": {},
   "outputs": [],
   "source": [
    "#7.Find out which month has the highest temperature\n",
    "c = int(air['Temp'].max())\n",
    "air[air['Temp']==c][['Month']]"
   ]
  },
  {
   "cell_type": "code",
   "execution_count": null,
   "metadata": {},
   "outputs": [],
   "source": [
    "#8.Find out the wind value when the Ozone becomes maximum\n",
    "d = int(air['Ozone'].max())\n",
    "air[air['Ozone']==d][['Wind']]"
   ]
  },
  {
   "cell_type": "code",
   "execution_count": null,
   "metadata": {},
   "outputs": [],
   "source": [
    "#9.Find out the months for which the airquality observations have been carried out\n",
    "pd.unique(air['Month']).tolist()"
   ]
  },
  {
   "cell_type": "code",
   "execution_count": null,
   "metadata": {},
   "outputs": [],
   "source": [
    "#10.Find the Ozone and temperature values for the 1st observation of every month.\n",
    "air.groupby('Month')[['Ozone','Temp']].head(1)"
   ]
  },
  {
   "cell_type": "code",
   "execution_count": null,
   "metadata": {},
   "outputs": [],
   "source": [
    "#11.Which day of which month corresponds to the least Ozone Value\n",
    "d = air['Ozone'].min()\n",
    "air[air['Ozone']==d][['Day','Month']]"
   ]
  },
  {
   "cell_type": "code",
   "execution_count": null,
   "metadata": {},
   "outputs": [],
   "source": [
    "#12.Convert the temperature for all the observations to Centigrade scale\n",
    "air['Cent_Temp'] = (air['Temp']-32.0) * 5.0/9.0\n",
    "air"
   ]
  }
 ],
 "metadata": {
  "kernelspec": {
   "display_name": "Python 3",
   "language": "python",
   "name": "python3"
  },
  "language_info": {
   "codemirror_mode": {
    "name": "ipython",
    "version": 3
   },
   "file_extension": ".py",
   "mimetype": "text/x-python",
   "name": "python",
   "nbconvert_exporter": "python",
   "pygments_lexer": "ipython3",
   "version": "3.6.4"
  }
 },
 "nbformat": 4,
 "nbformat_minor": 2
}
